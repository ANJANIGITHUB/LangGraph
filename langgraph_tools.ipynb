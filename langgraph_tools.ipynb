{
 "cells": [
  {
   "cell_type": "code",
   "execution_count": 1,
   "id": "6eab6de2",
   "metadata": {},
   "outputs": [],
   "source": [
    "from langgraph.graph import StateGraph,START,END\n",
    "from langchain_openai.chat_models import ChatOpenAI\n",
    "from typing import TypedDict,Annotated\n",
    "from langgraph.graph.message import add_messages\n",
    "from langgraph.checkpoint.sqlite import SqliteSaver\n",
    "from langgraph.prebuilt import ToolNode,tools_condition\n",
    "from langchain_core.tools import tool\n",
    "import sqlite3\n",
    "import requests\n",
    "from dotenv import load_dotenv\n",
    "from langchain_community.tools import DuckDuckGoSearchRun\n",
    "from langchain_core.messages import BaseMessage, HumanMessage"
   ]
  },
  {
   "cell_type": "code",
   "execution_count": 2,
   "id": "a16322f9",
   "metadata": {},
   "outputs": [
    {
     "data": {
      "text/plain": [
       "True"
      ]
     },
     "execution_count": 2,
     "metadata": {},
     "output_type": "execute_result"
    }
   ],
   "source": [
    "#activate environment\n",
    "load_dotenv()"
   ]
  },
  {
   "cell_type": "code",
   "execution_count": 3,
   "id": "eecaab47",
   "metadata": {},
   "outputs": [],
   "source": [
    "#llm call\n",
    "llm=ChatOpenAI()"
   ]
  },
  {
   "cell_type": "code",
   "execution_count": 4,
   "id": "9273180d",
   "metadata": {},
   "outputs": [],
   "source": [
    "#tool 1 duckduckgo\n",
    "search_tool= DuckDuckGoSearchRun(region=\"us-en\")"
   ]
  },
  {
   "cell_type": "code",
   "execution_count": 5,
   "id": "4a45814b",
   "metadata": {},
   "outputs": [],
   "source": [
    "#tool 2 duckduckgo\n",
    "@tool\n",
    "def calculater(input1 : float ,input2 : float ,operation : str) -> dict:\n",
    "    \"\"\"This is a calculator tool. This is used to perform operation such as add , subtract , \n",
    "       multiply and divide based on operation mentioned between input1 and input2\n",
    "    \"\"\"\n",
    "    try:\n",
    "        if operation ==\"add\":\n",
    "            result = input1 + input2\n",
    "        elif operation ==\"subtract\":\n",
    "            result = input1 - input2\n",
    "        elif operation ==\"multiply\":\n",
    "            result = input1 * input2\n",
    "        elif operation ==\"divide\":\n",
    "            result = input1 / input2\n",
    "        else:\n",
    "            return {\"error\": f\"Unsupported operation '{operation}'\"}\n",
    "        \n",
    "        return {\"input1\": input1, \"input2\": input2, \"operation\": operation, \"result\": result}\n",
    "    except Exception as e:\n",
    "        return {\"error\": str(e)}\n",
    "\n"
   ]
  },
  {
   "cell_type": "code",
   "execution_count": 6,
   "id": "d0b30ea0",
   "metadata": {},
   "outputs": [],
   "source": [
    "#tool 3 ,search of stocks prices\n",
    "def get_stock_price(symbol : str)->dict:\n",
    "        \"\"\"\n",
    "          Fetch latest stock price for a given symbol (e.g. 'AAPL', 'TSLA') \n",
    "          using Alpha Vantage with API key in the URL.\n",
    "        \"\"\"\n",
    "        url=f'https://www.alphavantage.co/query?function=GLOBAL_QUOTE&symbol={symbol}&apikey=8YKKJTTR02SRUN6K'\n",
    "        r=requests.get(url)\n",
    "\n",
    "        return r.json()"
   ]
  },
  {
   "cell_type": "code",
   "execution_count": 7,
   "id": "d0b5a9b4",
   "metadata": {},
   "outputs": [],
   "source": [
    "#bind tools\n",
    "tools_list=[search_tool,calculater,get_stock_price]\n",
    "llm_with_tools=llm.bind_tools(tools_list)"
   ]
  },
  {
   "cell_type": "code",
   "execution_count": 8,
   "id": "95a060fb",
   "metadata": {},
   "outputs": [],
   "source": [
    "#create class ChatState\n",
    "class ChatState(TypedDict):\n",
    "    messages:Annotated[list[BaseMessage],add_messages]\n"
   ]
  },
  {
   "cell_type": "code",
   "execution_count": 9,
   "id": "ab71c514",
   "metadata": {},
   "outputs": [],
   "source": [
    "#Node\n",
    "def ChatNode(state:ChatState):\n",
    "    \"\"\"Node that may answer the user query or request for a tool\"\"\"\n",
    "    messages=state['messages']\n",
    "    response=llm_with_tools.invoke(messages)\n",
    "    return {'messages':[response]}"
   ]
  },
  {
   "cell_type": "code",
   "execution_count": 10,
   "id": "f251c020",
   "metadata": {},
   "outputs": [],
   "source": [
    "#tool node\n",
    "tools=ToolNode(tools_list)"
   ]
  },
  {
   "cell_type": "code",
   "execution_count": 11,
   "id": "bca37dea",
   "metadata": {},
   "outputs": [],
   "source": [
    "#checkpointer\n",
    "conn=sqlite3.connect(database='chatbot.db',check_same_thread=False)\n",
    "checkpointer=SqliteSaver(conn=conn)"
   ]
  },
  {
   "cell_type": "code",
   "execution_count": 12,
   "id": "01f2b7ec",
   "metadata": {},
   "outputs": [
    {
     "data": {
      "text/plain": [
       "<langgraph.graph.state.StateGraph at 0x21a6eed37a0>"
      ]
     },
     "execution_count": 12,
     "metadata": {},
     "output_type": "execute_result"
    }
   ],
   "source": [
    "#graph building\n",
    "graph=StateGraph(ChatState)\n",
    "\n",
    "graph.add_node(\"ChatNode\",ChatNode)\n",
    "\n",
    "graph.add_node(\"tools\",tools)\n"
   ]
  },
  {
   "cell_type": "code",
   "execution_count": 13,
   "id": "8fd50cb3",
   "metadata": {},
   "outputs": [
    {
     "data": {
      "text/plain": [
       "<langgraph.graph.state.StateGraph at 0x21a6eed37a0>"
      ]
     },
     "execution_count": 13,
     "metadata": {},
     "output_type": "execute_result"
    }
   ],
   "source": [
    "graph.add_edge(START,\"ChatNode\")\n",
    "\n",
    "graph.add_conditional_edges(\"ChatNode\",tools_condition)\n",
    "\n",
    "graph.add_edge(\"tools\",\"ChatNode\")\n",
    "\n",
    "#graph.add_edge(\"ChatNode\",END)\n",
    "\n"
   ]
  },
  {
   "cell_type": "code",
   "execution_count": 14,
   "id": "0d62fb6d",
   "metadata": {},
   "outputs": [],
   "source": [
    "#chatbot=graph.compile(checkpointer=checkpointer)\n",
    "chatbot=graph.compile()"
   ]
  },
  {
   "cell_type": "code",
   "execution_count": 15,
   "id": "dba37cd2",
   "metadata": {},
   "outputs": [
    {
     "data": {
      "text/plain": [
       "'The result of dividing 21 by 21 is 1.'"
      ]
     },
     "execution_count": 15,
     "metadata": {},
     "output_type": "execute_result"
    }
   ],
   "source": [
    "output=chatbot.invoke({'messages':[HumanMessage(content=\"what is 21 divide by 21 \" \n",
    "                                                        )]})\n",
    "output['messages'][-1].content"
   ]
  },
  {
   "cell_type": "code",
   "execution_count": 20,
   "id": "cba8c2dc",
   "metadata": {},
   "outputs": [
    {
     "data": {
      "text/plain": [
       "'- The current stock price of Microsoft (MSFT) is $507.23.\\n- The price of 10 stocks of Microsoft would be $5072.30.'"
      ]
     },
     "execution_count": 20,
     "metadata": {},
     "output_type": "execute_result"
    }
   ],
   "source": [
    "output=chatbot.invoke({'messages':[HumanMessage(content=\"What is the stock price of Microsoft. What is the price of 10 stocks \" \n",
    "                                                        )]})\n",
    "output['messages'][-1].content"
   ]
  }
 ],
 "metadata": {
  "kernelspec": {
   "display_name": "lgenv2",
   "language": "python",
   "name": "python3"
  },
  "language_info": {
   "codemirror_mode": {
    "name": "ipython",
    "version": 3
   },
   "file_extension": ".py",
   "mimetype": "text/x-python",
   "name": "python",
   "nbconvert_exporter": "python",
   "pygments_lexer": "ipython3",
   "version": "3.12.10"
  }
 },
 "nbformat": 4,
 "nbformat_minor": 5
}
